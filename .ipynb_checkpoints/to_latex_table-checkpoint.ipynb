{
 "cells": [
  {
   "cell_type": "code",
   "execution_count": 2,
   "id": "spatial-rebecca",
   "metadata": {},
   "outputs": [
    {
     "data": {
      "text/plain": [
       "'\\n\\x08egin{tabular}{|c c c c|} \\n \\\\hline\\n Col1 & Col2 & Col2 & Col3 \\\\\\n \\\\hline\\\\hline\\n 1 & 6 & 87837 & 787 \\\\ \\n \\\\hline\\n 2 & 7 & 78 & 5415 \\\\\\n \\\\hline\\n 3 & 545 & 778 & 7507 \\\\\\n \\\\hline\\n 4 & 545 & 18744 & 7560 \\\\\\n \\\\hline\\n 5 & 88 & 788 & 6344 \\\\\\n \\\\hline\\n\\\\end{tabular}\\n\\n'"
      ]
     },
     "execution_count": 2,
     "metadata": {},
     "output_type": "execute_result"
    }
   ],
   "source": [
    "'''\n",
    "\\begin{tabular}{|c c c c|} \n",
    " \\hline\n",
    " Col1 & Col2 & Col2 & Col3 \\\\\n",
    " \\hline\\hline\n",
    " 1 & 6 & 87837 & 787 \\\\ \n",
    " \\hline\n",
    " 2 & 7 & 78 & 5415 \\\\\n",
    " \\hline\n",
    " 3 & 545 & 778 & 7507 \\\\\n",
    " \\hline\n",
    " 4 & 545 & 18744 & 7560 \\\\\n",
    " \\hline\n",
    " 5 & 88 & 788 & 6344 \\\\\n",
    " \\hline\n",
    "\\end{tabular}\n",
    "\n",
    "'''"
   ]
  },
  {
   "cell_type": "code",
   "execution_count": 1,
   "id": "third-pitch",
   "metadata": {},
   "outputs": [],
   "source": [
    "import pandas as pd\n",
    "import matplotlib.pyplot as plt\n",
    "import numpy as np"
   ]
  },
  {
   "cell_type": "code",
   "execution_count": 11,
   "id": "literary-organization",
   "metadata": {},
   "outputs": [],
   "source": []
  },
  {
   "cell_type": "code",
   "execution_count": 9,
   "id": "designing-button",
   "metadata": {},
   "outputs": [],
   "source": [
    "# plt.plot(df[cols[0]], df[cols[1]])\n",
    "# plt.xlabel(cols[0] + \" (log scale)\")\n",
    "# plt.ylabel(cols[1])\n",
    "# plt.title(cols[1] + \" vs \" + cols[0])\n",
    "# plt.savefig()"
   ]
  },
  {
   "cell_type": "code",
   "execution_count": 14,
   "id": "peripheral-volume",
   "metadata": {},
   "outputs": [
    {
     "name": "stdout",
     "output_type": "stream",
     "text": [
      "\\begin{tabular}{|c|c|c|}\n",
      "\\hline\n",
      "lambda (l2) & train accuracy & test accuracy \\\\\n",
      "\\hline\n",
      "0.0 & 99.53\\% & 89.6\\% \\\\\n",
      "\\hline\n",
      "-3.0 & 99.77\\% & 89.32\\% \\\\\n",
      "\\hline\n",
      "-2.75 & 99.3\\% & 89.35\\% \\\\\n",
      "\\hline\n",
      "-2.5 & 99.73\\% & 88.72\\% \\\\\n",
      "\\hline\n",
      "-2.25 & 99.67\\% & 88.33\\% \\\\\n",
      "\\hline\n",
      "\\textbf{-2.0} & \\textbf{99.47\\%} & \\textbf{89.98\\%} \\\\\n",
      "\\hline\n",
      "-1.75 & 99.1\\% & 89.54\\% \\\\\n",
      "\\hline\n",
      "-1.5 & 98.56\\% & 87.91\\% \\\\\n",
      "\\hline\n",
      "-1.25 & 98.28\\% & 86.61\\% \\\\\n",
      "\\hline\n",
      "-1.0 & 97.65\\% & 86.74\\% \\\\\n",
      "\\hline\n",
      "-0.75 & 97.28\\% & 88.57\\% \\\\\n",
      "\\hline\n",
      "-0.5 & 96.07\\% & 84.26\\% \\\\\n",
      "\\hline\n",
      "\\end{tabular}\n"
     ]
    }
   ],
   "source": [
    "file_dir = \"./Figures/CNN/trial 2/CNN test vs lambda (l2) 2.csv\"\n",
    "df = pd.read_csv(file_dir, usecols=range(1,4))\n",
    "vals = df.values\n",
    "cols = list(df.columns)\n",
    "\n",
    "a = [\"c\" for _ in range(len(cols))]\n",
    "print(\"\\\\begin{tabular}\", end=\"\")\n",
    "print(\"{|\", end=\"\")\n",
    "print('|'.join(a), end=\"\")\n",
    "print(\"|}\")\n",
    "print(\"\\\\hline\")\n",
    "print(\" & \".join(cols), \"\\\\\\\\\")\n",
    "print(\"\\\\hline\")\n",
    "max_ind = np.argmax(vals[:, 2])\n",
    "for i in range(vals.shape[0]):\n",
    "    val = [round(float(a), 5) for a in vals[i, :]]\n",
    "    val[0] = str(val[0]) if i != max_ind else \"\\\\textbf{\"+str(val[0])+\"}\"\n",
    "    for a in range(1, len(val)):\n",
    "        if i == max_ind:\n",
    "            val[a] = \"\\\\textbf{\"+str(round(val[a]*100,2))+\"\\%\"+\"}\"\n",
    "        else:\n",
    "            val[a] = str(round(val[a]*100,2))+\"\\%\"\n",
    "    print(\" & \".join(val), \"\\\\\\\\\")\n",
    "    print(\"\\\\hline\")\n",
    "print(\"\\\\end{tabular}\")"
   ]
  },
  {
   "cell_type": "code",
   "execution_count": null,
   "id": "eleven-flooring",
   "metadata": {},
   "outputs": [],
   "source": []
  }
 ],
 "metadata": {
  "kernelspec": {
   "display_name": "Python 3.7 (tensorflow)",
   "language": "python",
   "name": "tensorflow"
  },
  "language_info": {
   "codemirror_mode": {
    "name": "ipython",
    "version": 3
   },
   "file_extension": ".py",
   "mimetype": "text/x-python",
   "name": "python",
   "nbconvert_exporter": "python",
   "pygments_lexer": "ipython3",
   "version": "3.7.9"
  }
 },
 "nbformat": 4,
 "nbformat_minor": 5
}
