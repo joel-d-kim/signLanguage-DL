{
 "cells": [
  {
   "cell_type": "code",
   "execution_count": 1,
   "id": "wrapped-ability",
   "metadata": {},
   "outputs": [],
   "source": [
    "from sklearn.preprocessing import *\n",
    "from tensorflow.keras.layers import *\n",
    "from tensorflow.keras.models import *\n",
    "from tensorflow.keras.optimizers import *\n",
    "from tensorflow.keras.initializers import GlorotNormal\n",
    "from tensorflow.keras.regularizers import l1, l2\n",
    "# from sklearn.metrics import accuracy_score\n",
    "\n",
    "from tensorflow.keras.callbacks import EarlyStopping\n",
    "\n",
    "from sklearn.model_selection import train_test_split\n",
    "\n",
    "import sklearn\n",
    "import numpy as np\n",
    "import matplotlib.pyplot as plt \n",
    "import pandas as pd\n",
    "from jupyterthemes import jtplot\n",
    "jtplot.style(theme='monokai')"
   ]
  },
  {
   "cell_type": "code",
   "execution_count": 2,
   "id": "surprised-bulgarian",
   "metadata": {},
   "outputs": [],
   "source": [
    "def to_cat(y, num_cats):\n",
    "    res = []\n",
    "    for i in range(y.shape[0]):\n",
    "        label = [0]*num_cats\n",
    "        label[y[i]] = 1\n",
    "        res.append(label)\n",
    "    return np.array(res)"
   ]
  },
  {
   "cell_type": "code",
   "execution_count": 3,
   "id": "different-printing",
   "metadata": {},
   "outputs": [],
   "source": [
    "def accuracy(y_pred, y):\n",
    "    num_correct = 0\n",
    "    for i in range(y_pred.shape[0]):\n",
    "        num_correct += y_pred[i].argmax() == y[i].argmax()\n",
    "    return num_correct / y_pred.shape[0]"
   ]
  },
  {
   "cell_type": "markdown",
   "id": "minus-curtis",
   "metadata": {},
   "source": [
    "# Load and Scale Data"
   ]
  },
  {
   "cell_type": "code",
   "execution_count": 4,
   "id": "greater-correspondence",
   "metadata": {},
   "outputs": [],
   "source": [
    "pddata_train = pd.read_csv('Data/sign_mnist_train.csv')\n",
    "data_train = pddata_train.values\n",
    "data_train_X = data_train[:,1:]\n",
    "data_train_y = data_train[:,:1].reshape(-1) # turn to 1d\n",
    "data_train_y = to_cat(data_train_y, 26)\n",
    "\n",
    "test_size = 0.1\n",
    "test_ind = int(test_size*data_train_X.shape[0])\n",
    "data_train_X, data_val_X, data_train_y, data_val_y = data_train_X[test_ind:], data_train_X[:test_ind],data_train_y[test_ind:], data_train_y[:test_ind]\n",
    "\n",
    "\n",
    "pddata_test = pd.read_csv('Data/sign_mnist_test.csv')\n",
    "data_test = pddata_test.values\n",
    "data_test_X = data_test[:, 1:]\n",
    "data_test_y = data_test[:, :1].reshape(-1) # turn to 1d\n",
    "data_test_y = to_cat(data_test_y, 26)\n",
    "\n",
    "# scaler = StandardScaler()\n",
    "# scaled_train_X = scaler.fit_transform(data_train_X)\n",
    "# scaled_test_X = scaler.transform(data_test_X)"
   ]
  },
  {
   "cell_type": "code",
   "execution_count": 5,
   "id": "understanding-diary",
   "metadata": {},
   "outputs": [
    {
     "data": {
      "text/plain": [
       "(7172, 784)"
      ]
     },
     "execution_count": 5,
     "metadata": {},
     "output_type": "execute_result"
    }
   ],
   "source": [
    "data_test_X.shape"
   ]
  },
  {
   "cell_type": "code",
   "execution_count": 6,
   "id": "rural-restriction",
   "metadata": {},
   "outputs": [
    {
     "name": "stdout",
     "output_type": "stream",
     "text": [
      "There are 24710 training samples\n",
      "There are 7172 training samples\n"
     ]
    }
   ],
   "source": [
    "print(f\"There are {data_train_X.shape[0]} training samples\")\n",
    "print(f\"There are {data_test_X.shape[0]} training samples\")"
   ]
  },
  {
   "cell_type": "markdown",
   "id": "attached-celebration",
   "metadata": {},
   "source": [
    "# Dense Neural Network"
   ]
  },
  {
   "cell_type": "code",
   "execution_count": 6,
   "id": "russian-daniel",
   "metadata": {},
   "outputs": [],
   "source": [
    "def create_dnn(num_input, layers, activations, dropouts, regularizations, optimizer):\n",
    "    model = Sequential()\n",
    "    model.add(Input(shape=(num_input,)))\n",
    "    for num_nodes, act, dr, reg in zip(layers, activations, dropouts, regularizations):\n",
    "        model.add(Dense(num_nodes, activation=act, kernel_regularizer=reg))\n",
    "        if dr != 0:\n",
    "            model.add(Dropout(dr))\n",
    "            \n",
    "    model.compile(loss='categorical_crossentropy', optimizer=optimizer, metrics=['accuracy'])\n",
    "    return model"
   ]
  },
  {
   "cell_type": "markdown",
   "id": "cooperative-overhead",
   "metadata": {},
   "source": [
    "# Testing Dense Neural Network"
   ]
  },
  {
   "cell_type": "code",
   "execution_count": 7,
   "id": "successful-rainbow",
   "metadata": {},
   "outputs": [],
   "source": [
    "# layers = [26]\n",
    "# activations = ['softmax']\n",
    "# dropouts=[0, 0, 0, 0]\n",
    "# optimizer=Adam(0.01)\n",
    "# regularizations = [\n",
    "#     l2(0.01)\n",
    "# ]\n",
    "# epochs=200\n",
    "# batch_size=256\n",
    "\n",
    "# early_stop = EarlyStopping(\n",
    "#     monitor=\"loss\",\n",
    "#     min_delta=0,\n",
    "#     patience=10,\n",
    "#     verbose=0,\n",
    "#     mode=\"auto\",\n",
    "#     baseline=None,\n",
    "#     restore_best_weights=True,\n",
    "# )\n",
    "\n",
    "# model = create_dnn(data_train_X[0].shape[0], layers, activations, dropouts, regularizations, optimizer)\n",
    "\n",
    "# model.summary()\n",
    "\n",
    "# model.fit(data_train_X, data_train_y, validation_data=(data_val_X, data_val_y), epochs=epochs, batch_size=batch_size, verbose=1)"
   ]
  },
  {
   "cell_type": "code",
   "execution_count": 8,
   "id": "vietnamese-estonia",
   "metadata": {},
   "outputs": [],
   "source": [
    "# model.evaluate(data_test_X, data_test_y)"
   ]
  },
  {
   "cell_type": "markdown",
   "id": "persistent-restriction",
   "metadata": {},
   "source": [
    "# Convolutional Neural Network"
   ]
  },
  {
   "cell_type": "markdown",
   "id": "exceptional-stephen",
   "metadata": {},
   "source": [
    "## Loading Data"
   ]
  },
  {
   "cell_type": "code",
   "execution_count": 7,
   "id": "overall-philippines",
   "metadata": {},
   "outputs": [],
   "source": [
    "pddata_train = pd.read_csv('Data/sign_mnist_train.csv')\n",
    "data_train = pddata_train.values\n",
    "data_train_X = data_train[:,1:]\n",
    "data_train_X = data_train_X.reshape((data_train_X.shape[0], 28,28,1))\n",
    "data_train_y = data_train[:,:1].reshape(-1) # turn to 1d\n",
    "data_train_y = to_cat(data_train_y, 26)\n",
    "\n",
    "test_size = 0.1\n",
    "test_ind = int(test_size*data_train_X.shape[0])\n",
    "data_train_X, data_val_X, data_train_y, data_val_y = data_train_X[test_ind:], data_train_X[:test_ind],data_train_y[test_ind:], data_train_y[:test_ind]\n",
    "\n",
    "\n",
    "pddata_test = pd.read_csv('Data/sign_mnist_test.csv')\n",
    "data_test = pddata_test.values\n",
    "data_test_X = data_test[:, 1:]\n",
    "data_test_X = data_test_X.reshape((data_test_X.shape[0], 28,28,1))\n",
    "data_test_y = data_test[:, :1].reshape(-1) # turn to 1d\n",
    "data_test_y = to_cat(data_test_y, 26)\n",
    "\n",
    "# scaler = StandardScaler()\n",
    "# scaled_train_X = scaler.fit_transform(data_train_X)\n",
    "# scaled_test_X = scaler.transform(data_test_X)"
   ]
  },
  {
   "cell_type": "code",
   "execution_count": 8,
   "id": "identical-sustainability",
   "metadata": {},
   "outputs": [],
   "source": [
    "# for visualizing the model\n",
    "# import visualkeras\n",
    "# from PIL import ImageFont\n",
    "# example = create_cnn((28,28,1), Adam(1), l2(0))\n",
    "# font = ImageFont.truetype(\"arial.ttf\", 10)\n",
    "# visualkeras.layered_view(example, legend=True, font=font, to_file='./Figures//CNN//architecture.png').show()"
   ]
  },
  {
   "cell_type": "code",
   "execution_count": null,
   "id": "alert-intro",
   "metadata": {},
   "outputs": [],
   "source": []
  },
  {
   "cell_type": "code",
   "execution_count": 9,
   "id": "disabled-health",
   "metadata": {},
   "outputs": [],
   "source": [
    "def create_cnn(input_shape, optimizer, regularizer):\n",
    "    model = Sequential()\n",
    "    spacing=20\n",
    "    model.add(Input(shape=input_shape))\n",
    "    model.add(Conv2D(8, 3, activation='selu', padding='same', kernel_initializer=GlorotNormal(seed=42)))\n",
    "#     model.add(visualkeras.SpacingDummyLayer(spacing=spacing))\n",
    "    model.add(MaxPooling2D(2))\n",
    "#     model.add(visualkeras.SpacingDummyLayer(spacing=spacing))\n",
    "    model.add(Conv2D(4, 2, activation='selu', padding='same', kernel_initializer=GlorotNormal(seed=42)))\n",
    "#     model.add(visualkeras.SpacingDummyLayer(spacing=spacing))\n",
    "    model.add(MaxPooling2D(2))\n",
    "#     model.add(visualkeras.SpacingDummyLayer(spacing=spacing))\n",
    "    model.add(Flatten())\n",
    "#     model.add(visualkeras.SpacingDummyLayer(spacing=spacing))\n",
    "    model.add(Dropout(0.5))\n",
    "#     model.add(visualkeras.SpacingDummyLayer(spacing=spacing))\n",
    "    model.add(Dense(26, activation='softmax', kernel_regularizer=regularizer, kernel_initializer=GlorotNormal(seed=42)))\n",
    "    \n",
    "    model.compile(loss='categorical_crossentropy', optimizer=optimizer, metrics=['accuracy'])\n",
    "    \n",
    "    return model"
   ]
  },
  {
   "cell_type": "code",
   "execution_count": 10,
   "id": "billion-northwest",
   "metadata": {},
   "outputs": [],
   "source": [
    "def run_model(lr, batch_size, epochs, reg, X_train = data_train_X, y_train = data_train_y, X_test = data_test_X, y_test = data_test_y):\n",
    "    model = create_cnn((28, 28,1), Adam(lr), reg)\n",
    "\n",
    "    early_stop = EarlyStopping(\n",
    "        monitor=\"loss\",\n",
    "        min_delta=0,\n",
    "        patience=10,\n",
    "        verbose=0,\n",
    "        mode=\"auto\",\n",
    "        baseline=None,\n",
    "        restore_best_weights=True,\n",
    "    )\n",
    "\n",
    "    model.fit(X_train, y_train, batch_size=batch_size, epochs=epochs, callbacks=[early_stop], verbose=0)\n",
    "    \n",
    "    return model.evaluate(X_test, y_test)[1], model.evaluate(X_train, y_train)[1]"
   ]
  },
  {
   "cell_type": "markdown",
   "id": "developmental-rebate",
   "metadata": {},
   "source": [
    "## Testing Different Learning Rates"
   ]
  },
  {
   "cell_type": "code",
   "execution_count": 21,
   "id": "expanded-creature",
   "metadata": {
    "scrolled": false
   },
   "outputs": [
    {
     "name": "stdout",
     "output_type": "stream",
     "text": [
      "7172/7172 [==============================] - 0s 51us/sample - loss: 2.9005 - accuracy: 0.1426\n",
      "7172/7172 [==============================] - 0s 41us/sample - loss: 2.9005 - accuracy: 0.1426\n",
      "24710/24710 [==============================] - 1s 41us/sample - loss: 2.8014 - accuracy: 0.1815\n",
      "7172/7172 [==============================] - 0s 62us/sample - loss: 0.6649 - accuracy: 0.7929\n",
      "7172/7172 [==============================] - 0s 45us/sample - loss: 0.6649 - accuracy: 0.7929\n",
      "24710/24710 [==============================] - 1s 45us/sample - loss: 0.3172 - accuracy: 0.9395\n",
      "7172/7172 [==============================] - 0s 61us/sample - loss: 0.4165 - accuracy: 0.8614\n",
      "7172/7172 [==============================] - 0s 47us/sample - loss: 0.4165 - accuracy: 0.8614\n",
      "24710/24710 [==============================] - 1s 45us/sample - loss: 0.0725 - accuracy: 0.9935\n",
      "7172/7172 [==============================] - 0s 59us/sample - loss: 0.3359 - accuracy: 0.8939\n",
      "7172/7172 [==============================] - 0s 48us/sample - loss: 0.3359 - accuracy: 0.8939\n",
      "24710/24710 [==============================] - 1s 47us/sample - loss: 0.0423 - accuracy: 0.9986\n",
      "7172/7172 [==============================] - 0s 59us/sample - loss: 0.3074 - accuracy: 0.9003\n",
      "7172/7172 [==============================] - 0s 46us/sample - loss: 0.3074 - accuracy: 0.9003\n",
      "24710/24710 [==============================] - 1s 46us/sample - loss: 0.0377 - accuracy: 0.9970\n",
      "7172/7172 [==============================] - 0s 59us/sample - loss: 0.2863 - accuracy: 0.9179\n",
      "7172/7172 [==============================] - 0s 47us/sample - loss: 0.2863 - accuracy: 0.9179\n",
      "24710/24710 [==============================] - 1s 46us/sample - loss: 0.0285 - accuracy: 0.9982\n",
      "7172/7172 [==============================] - 0s 63us/sample - loss: 0.4085 - accuracy: 0.8812\n",
      "7172/7172 [==============================] - 0s 48us/sample - loss: 0.4085 - accuracy: 0.8812\n",
      "24710/24710 [==============================] - 1s 49us/sample - loss: 0.0365 - accuracy: 0.9950\n",
      "7172/7172 [==============================] - 0s 59us/sample - loss: 0.6632 - accuracy: 0.7897\n",
      "7172/7172 [==============================] - 0s 44us/sample - loss: 0.6632 - accuracy: 0.7897\n",
      "24710/24710 [==============================] - 1s 48us/sample - loss: 0.1916 - accuracy: 0.9547\n",
      "7172/7172 [==============================] - 0s 62us/sample - loss: 3.9931 - accuracy: 0.0360\n",
      "7172/7172 [==============================] - 0s 47us/sample - loss: 3.9931 - accuracy: 0.0360\n",
      "24710/24710 [==============================] - 1s 49us/sample - loss: 3.8868 - accuracy: 0.0442\n",
      "7172/7172 [==============================] - 0s 59us/sample - loss: 36.5246 - accuracy: 0.0418\n",
      "7172/7172 [==============================] - 0s 47us/sample - loss: 36.5246 - accuracy: 0.0418\n",
      "24710/24710 [==============================] - 1s 47us/sample - loss: 32.0861 - accuracy: 0.0429\n",
      "7172/7172 [==============================] - 0s 59us/sample - loss: 55.9073 - accuracy: 0.0229\n",
      "7172/7172 [==============================] - 0s 47us/sample - loss: 55.9073 - accuracy: 0.0229\n",
      "24710/24710 [==============================] - 1s 45us/sample - loss: 45.4170 - accuracy: 0.0464\n"
     ]
    }
   ],
   "source": [
    "lr = np.logspace(-5, -0.5, 11)\n",
    "test_acc = []\n",
    "train_acc = []\n",
    "for l in lr:\n",
    "    test, train = run_model(l, 256, 200, l2(0))\n",
    "    test_acc.append(test)\n",
    "    train_acc.append(train)"
   ]
  },
  {
   "cell_type": "code",
   "execution_count": 22,
   "id": "cathedral-finance",
   "metadata": {},
   "outputs": [
    {
     "data": {
      "image/png": "[encoded data removed]",
      "text/plain": [
       "<Figure size 460.8x403.2 with 1 Axes>"
      ]
     },
     "metadata": {},
     "output_type": "display_data"
    }
   ],
   "source": [
    "plt.plot(np.linspace(-5, -0.5,11), train_acc, label='train accuracy')\n",
    "plt.plot(np.linspace(-5, -0.5,11), test_acc, label='test accuracy')\n",
    "plt.legend()\n",
    "plt.xlabel('Learning Rate (Log Scale)')\n",
    "plt.ylabel('Accuracy')\n",
    "plt.title('Accuracy vs Learning Rate')\n",
    "name = \"CNN test vs lr 2\"\n",
    "plt.savefig(f'Figures\\\\CNN\\\\{name}.jpg', dpi=500)\n",
    "plt.plot()\n",
    "\n",
    "pd.DataFrame([np.linspace(-5, -0.5,11), train_acc, test_acc], index=['learning rate', 'train accuracy', 'test accuracy']).transpose().to_csv(f'./Figures/CNN/{name}.csv')"
   ]
  },
  {
   "cell_type": "markdown",
   "id": "behavioral-collective",
   "metadata": {},
   "source": [
    "## Testing Different Learning Batch Sizes"
   ]
  },
  {
   "cell_type": "code",
   "execution_count": 8,
   "id": "peaceful-fifteen",
   "metadata": {},
   "outputs": [
    {
     "name": "stdout",
     "output_type": "stream",
     "text": [
      "7172/7172 [==============================] - 0s 62us/sample - loss: 0.6315 - accuracy: 0.8190\n",
      "24710/24710 [==============================] - 1s 49us/sample - loss: 0.1714 - accuracy: 0.9477s - loss: 0\n",
      "7172/7172 [==============================] - 0s 60us/sample - loss: 0.5973 - accuracy: 0.8522\n",
      "24710/24710 [==============================] - 1s 50us/sample - loss: 0.0869 - accuracy: 0.9726\n",
      "7172/7172 [==============================] - 1s 192us/sample - loss: 0.3580 - accuracy: 0.9085\n",
      "24710/24710 [==============================] - 4s 181us/sample - loss: 0.0638 - accuracy: 0.9846\n",
      "7172/7172 [==============================] - 1s 190us/sample - loss: 0.3708 - accuracy: 0.9064\n",
      "24710/24710 [==============================] - 4s 177us/sample - loss: 0.0466 - accuracy: 0.9925\n",
      "7172/7172 [==============================] - 1s 196us/sample - loss: 0.3339 - accuracy: 0.9006\n",
      "24710/24710 [==============================] - 5s 191us/sample - loss: 0.0365 - accuracy: 0.9958\n",
      "7172/7172 [==============================] - 1s 194us/sample - loss: 0.3156 - accuracy: 0.9046\n",
      "24710/24710 [==============================] - 4s 182us/sample - loss: 0.0345 - accuracy: 0.9977\n",
      "7172/7172 [==============================] - 1s 189us/sample - loss: 0.2911 - accuracy: 0.9184\n",
      "24710/24710 [==============================] - 4s 177us/sample - loss: 0.0283 - accuracy: 0.9988\n",
      "7172/7172 [==============================] - 1s 196us/sample - loss: 0.3198 - accuracy: 0.8945\n",
      "24710/24710 [==============================] - 4s 181us/sample - loss: 0.0401 - accuracy: 0.9962\n",
      "7172/7172 [==============================] - 1s 196us/sample - loss: 0.3126 - accuracy: 0.8865\n",
      "24710/24710 [==============================] - 5s 185us/sample - loss: 0.0445 - accuracy: 0.9966\n"
     ]
    }
   ],
   "source": [
    "batches = [4, 8, 16, 32, 64, 128, 256, 512, 1024]\n",
    "test_acc = []\n",
    "train_acc = []\n",
    "for b in batches:\n",
    "    test, train = run_model(0.002, b, 200, l2(0))\n",
    "    test_acc.append(test)\n",
    "    train_acc.append(train)"
   ]
  },
  {
   "cell_type": "code",
   "execution_count": 9,
   "id": "bottom-apollo",
   "metadata": {},
   "outputs": [
    {
     "data": {
      "image/png": "[encoded data removed]",
      "text/plain": [
       "<Figure size 460.8x403.2 with 1 Axes>"
      ]
     },
     "metadata": {},
     "output_type": "display_data"
    }
   ],
   "source": [
    "plt.plot(list(range(2,11)), train_acc, label='train accuracy')\n",
    "plt.plot(list(range(2,11)), test_acc, label='test accuracy')\n",
    "plt.legend()\n",
    "plt.xlabel('Batch Size (Log Scale)')\n",
    "plt.ylabel('Accuracy')\n",
    "plt.title('Accuracy vs Batch Size')\n",
    "name = \"CNN test vs batch size 2\"\n",
    "plt.savefig(f'Figures\\\\CNN\\\\{name}.jpg', dpi=500)\n",
    "plt.plot()\n",
    "\n",
    "pd.DataFrame([list(range(2,11)), train_acc, test_acc], index=['batch size (log)', 'train accuracy', 'test accuracy']).transpose().to_csv(f'./Figures/CNN/{name}.csv')"
   ]
  },
  {
   "cell_type": "markdown",
   "id": "fluid-learning",
   "metadata": {},
   "source": [
    "## Testing Different Lambdas for l1 Regularization"
   ]
  },
  {
   "cell_type": "code",
   "execution_count": 8,
   "id": "lonely-business",
   "metadata": {},
   "outputs": [
    {
     "name": "stdout",
     "output_type": "stream",
     "text": [
      "7172/7172 [==============================] - 1s 71us/sample - loss: 0.3557 - accuracy: 0.8975\n",
      "24710/24710 [==============================] - 1s 51us/sample - loss: 0.0376 - accuracy: 0.9958\n",
      "7172/7172 [==============================] - 0s 56us/sample - loss: 0.4124 - accuracy: 0.9078\n",
      "24710/24710 [==============================] - 1s 46us/sample - loss: 0.1999 - accuracy: 0.9965\n",
      "7172/7172 [==============================] - 0s 65us/sample - loss: 0.5392 - accuracy: 0.8921\n",
      "24710/24710 [==============================] - 1s 46us/sample - loss: 0.2720 - accuracy: 0.9936\n",
      "7172/7172 [==============================] - 0s 60us/sample - loss: 0.6374 - accuracy: 0.8793\n",
      "24710/24710 [==============================] - 1s 47us/sample - loss: 0.3798 - accuracy: 0.9791\n",
      "7172/7172 [==============================] - 0s 55us/sample - loss: 0.7059 - accuracy: 0.8928\n",
      "24710/24710 [==============================] - 1s 42us/sample - loss: 0.4751 - accuracy: 0.9795\n",
      "7172/7172 [==============================] - 0s 56us/sample - loss: 0.8610 - accuracy: 0.8535\n",
      "24710/24710 [==============================] - 1s 43us/sample - loss: 0.5971 - accuracy: 0.9660\n",
      "7172/7172 [==============================] - 0s 57us/sample - loss: 1.0440 - accuracy: 0.8490\n",
      "24710/24710 [==============================] - 1s 45us/sample - loss: 0.7801 - accuracy: 0.9512\n",
      "7172/7172 [==============================] - 0s 55us/sample - loss: 1.2151 - accuracy: 0.8214\n",
      "24710/24710 [==============================] - 1s 42us/sample - loss: 0.9717 - accuracy: 0.9361\n",
      "7172/7172 [==============================] - 0s 57us/sample - loss: 1.4768 - accuracy: 0.8172\n",
      "24710/24710 [==============================] - 1s 42us/sample - loss: 1.2645 - accuracy: 0.8916\n",
      "7172/7172 [==============================] - 0s 62us/sample - loss: 1.9704 - accuracy: 0.6387\n",
      "24710/24710 [==============================] - 1s 52us/sample - loss: 1.6642 - accuracy: 0.7665\n",
      "7172/7172 [==============================] - 0s 56us/sample - loss: 2.4926 - accuracy: 0.5858\n",
      "24710/24710 [==============================] - 1s 43us/sample - loss: 2.2207 - accuracy: 0.6891\n",
      "7172/7172 [==============================] - 0s 62us/sample - loss: 2.7342 - accuracy: 0.6005\n",
      "24710/24710 [==============================] - 1s 49us/sample - loss: 2.5325 - accuracy: 0.7260\n"
     ]
    }
   ],
   "source": [
    "lamb = [0]+list(np.logspace(-3, -0.5, 11))\n",
    "train_acc = []\n",
    "test_acc = []\n",
    "for l in lamb:\n",
    "    test, train = run_model(0.002, 256, 200, l1(l))\n",
    "    train_acc.append(train)\n",
    "    test_acc.append(test)"
   ]
  },
  {
   "cell_type": "code",
   "execution_count": 9,
   "id": "aquatic-ministry",
   "metadata": {},
   "outputs": [
    {
     "data": {
      "image/png": "[encoded data removed]",
      "text/plain": [
       "<Figure size 460.8x403.2 with 1 Axes>"
      ]
     },
     "metadata": {},
     "output_type": "display_data"
    }
   ],
   "source": [
    "plt.plot(train_acc, label=\"train accuracy\")\n",
    "plt.plot(test_acc, label=\"test accuracy\")\n",
    "plt.legend()\n",
    "plt.xlabel('Lambda')\n",
    "plt.ylabel('Accuracy')\n",
    "plt.title('Accuracy vs Lambda (l1)')\n",
    "\n",
    "plt.tick_params(\n",
    "    axis='x',  \n",
    "    which='both',   \n",
    "    bottom=False,  \n",
    "    top=False,     \n",
    "    labelbottom=False)\n",
    "\n",
    "name = \"CNN test vs lambda (l1) 2\"\n",
    "plt.savefig(f'Figures\\\\CNN\\\\{name}.jpg', dpi=500)\n",
    "plt.plot()\n",
    "\n",
    "pd.DataFrame([[0]+list(np.linspace(-3, -0.5, 11)), train_acc, test_acc], index=['lambda (l1)', 'train accuracy', 'test accuracy']).transpose().to_csv(f'./Figures/CNN/{name}.csv')"
   ]
  },
  {
   "cell_type": "markdown",
   "id": "electronic-surfing",
   "metadata": {},
   "source": [
    "## Testing Different Lambdas for l2 Regularization"
   ]
  },
  {
   "cell_type": "code",
   "execution_count": 11,
   "id": "pediatric-radio",
   "metadata": {},
   "outputs": [
    {
     "name": "stdout",
     "output_type": "stream",
     "text": [
      "7172/7172 [==============================] - 0s 70us/sample - loss: 0.3161 - accuracy: 0.8960\n",
      "24710/24710 [==============================] - 1s 49us/sample - loss: 0.0403 - accuracy: 0.9953\n",
      "7172/7172 [==============================] - 0s 59us/sample - loss: 0.3448 - accuracy: 0.8932\n",
      "24710/24710 [==============================] - 1s 44us/sample - loss: 0.0774 - accuracy: 0.9977\n",
      "7172/7172 [==============================] - 0s 55us/sample - loss: 0.3795 - accuracy: 0.8935\n",
      "24710/24710 [==============================] - 1s 42us/sample - loss: 0.1037 - accuracy: 0.9930\n",
      "7172/7172 [==============================] - 0s 55us/sample - loss: 0.3818 - accuracy: 0.8872\n",
      "24710/24710 [==============================] - 1s 41us/sample - loss: 0.1128 - accuracy: 0.9973\n",
      "7172/7172 [==============================] - 0s 55us/sample - loss: 0.4157 - accuracy: 0.8833\n",
      "24710/24710 [==============================] - 1s 42us/sample - loss: 0.1280 - accuracy: 0.9967\n",
      "7172/7172 [==============================] - 0s 56us/sample - loss: 0.4041 - accuracy: 0.8997\n",
      "24710/24710 [==============================] - 1s 43us/sample - loss: 0.1564 - accuracy: 0.9947\n",
      "7172/7172 [==============================] - 0s 55us/sample - loss: 0.4285 - accuracy: 0.8954\n",
      "24710/24710 [==============================] - 1s 43us/sample - loss: 0.1833 - accuracy: 0.9910\n",
      "7172/7172 [==============================] - 0s 62us/sample - loss: 0.5355 - accuracy: 0.8791\n",
      "24710/24710 [==============================] - 1s 47us/sample - loss: 0.2294 - accuracy: 0.9856\n",
      "7172/7172 [==============================] - 0s 65us/sample - loss: 0.5780 - accuracy: 0.8661\n",
      "24710/24710 [==============================] - 1s 47us/sample - loss: 0.2657 - accuracy: 0.9828\n",
      "7172/7172 [==============================] - 0s 56us/sample - loss: 0.5630 - accuracy: 0.8674\n",
      "24710/24710 [==============================] - 1s 43us/sample - loss: 0.2861 - accuracy: 0.9765\n",
      "7172/7172 [==============================] - 0s 55us/sample - loss: 0.5736 - accuracy: 0.8857\n",
      "24710/24710 [==============================] - 1s 42us/sample - loss: 0.3497 - accuracy: 0.9728\n",
      "7172/7172 [==============================] - 0s 56us/sample - loss: 0.7523 - accuracy: 0.8426\n",
      "24710/24710 [==============================] - 1s 42us/sample - loss: 0.4435 - accuracy: 0.9607\n"
     ]
    }
   ],
   "source": [
    "lamb = [0]+list(np.logspace(-3, -0.5, 11))\n",
    "train_acc = []\n",
    "test_acc = []\n",
    "for l in lamb:\n",
    "    test, train = run_model(0.002, 256, 200, l2(l))\n",
    "    train_acc.append(train)\n",
    "    test_acc.append(test)"
   ]
  },
  {
   "cell_type": "code",
   "execution_count": 12,
   "id": "equal-carolina",
   "metadata": {},
   "outputs": [
    {
     "data": {
      "image/png": "[encoded data removed]",
      "text/plain": [
       "<Figure size 460.8x403.2 with 1 Axes>"
      ]
     },
     "metadata": {},
     "output_type": "display_data"
    }
   ],
   "source": [
    "plt.plot(train_acc, label=\"train accuracy\")\n",
    "plt.plot(test_acc, label=\"test accuracy\")\n",
    "plt.legend()\n",
    "plt.xlabel('Lambda')\n",
    "plt.ylabel('Accuracy')\n",
    "plt.title('Accuracy vs Lambda (l2)')\n",
    "\n",
    "plt.tick_params(\n",
    "    axis='x',  \n",
    "    which='both',   \n",
    "    bottom=False,  \n",
    "    top=False,     \n",
    "    labelbottom=False)\n",
    "\n",
    "name = \"CNN test vs lambda (l2) 2\"\n",
    "plt.savefig(f'Figures\\\\CNN\\\\{name}.jpg', dpi=500)\n",
    "plt.plot()\n",
    "\n",
    "pd.DataFrame([[0]+list(np.linspace(-3, -0.5, 11)), train_acc, test_acc], index=['lambda (l2)', 'train accuracy', 'test accuracy']).transpose().to_csv(f'./Figures/CNN/{name}.csv')"
   ]
  },
  {
   "cell_type": "code",
   "execution_count": 30,
   "id": "bulgarian-tract",
   "metadata": {},
   "outputs": [],
   "source": [
    "pd.DataFrame([lamb, acc]).transpose().to_csv('Figures\\\\CNN test vs lambda l1.csv')"
   ]
  },
  {
   "cell_type": "markdown",
   "id": "short-appeal",
   "metadata": {},
   "source": [
    "## Testing Different Scalings"
   ]
  },
  {
   "cell_type": "code",
   "execution_count": 9,
   "id": "distributed-setting",
   "metadata": {},
   "outputs": [],
   "source": [
    "pddata_train = pd.read_csv('Data/sign_mnist_train.csv')\n",
    "data_train = pddata_train.values\n",
    "data_train_X = data_train[:,1:]\n",
    "data_train_y = data_train[:,:1].reshape(-1) # turn to 1d\n",
    "data_train_y = to_cat(data_train_y, 26)\n",
    "\n",
    "test_size = 0.1\n",
    "test_ind = int(test_size*data_train_X.shape[0])\n",
    "data_train_X, data_val_X, data_train_y, data_val_y = data_train_X[test_ind:], data_train_X[:test_ind],data_train_y[test_ind:], data_train_y[:test_ind]\n",
    "\n",
    "\n",
    "pddata_test = pd.read_csv('Data/sign_mnist_test.csv')\n",
    "data_test = pddata_test.values\n",
    "data_test_X = data_test[:, 1:]\n",
    "data_test_y = data_test[:, :1].reshape(-1) # turn to 1d\n",
    "data_test_y = to_cat(data_test_y, 26)\n",
    "\n",
    "mmscaler = MinMaxScaler()\n",
    "mmscaled_train_X = mmscaler.fit_transform(data_train_X)\n",
    "mmscaled_test_X = mmscaler.transform(data_test_X)\n",
    "\n",
    "stdscaler = StandardScaler()\n",
    "stdscaled_train_X = stdscaler.fit_transform(data_train_X)\n",
    "stdscaled_test_X = stdscaler.transform(data_test_X)\n",
    "\n",
    "mmscaled_train_X = mmscaled_train_X.reshape((mmscaled_train_X.shape[0], 28,28,1))\n",
    "mmscaled_test_X = mmscaled_test_X.reshape((mmscaled_test_X.shape[0], 28,28,1))\n",
    "stdscaled_train_X = stdscaled_train_X.reshape((stdscaled_train_X.shape[0], 28,28,1))\n",
    "stdscaled_test_X = stdscaled_test_X.reshape((stdscaled_test_X.shape[0], 28,28,1))\n",
    "data_train_X = data_train_X.reshape((data_train_X.shape[0], 28,28,1))\n",
    "data_test_X = data_test_X.reshape((data_test_X.shape[0], 28,28,1))"
   ]
  },
  {
   "cell_type": "code",
   "execution_count": 39,
   "id": "advised-jefferson",
   "metadata": {},
   "outputs": [
    {
     "name": "stdout",
     "output_type": "stream",
     "text": [
      "7172/7172 [==============================] - 0s 52us/sample - loss: 0.2864 - accuracy: 0.9101\n",
      "7172/7172 [==============================] - 0s 61us/sample - loss: 0.2947 - accuracy: 0.9109\n",
      "7172/7172 [==============================] - 0s 53us/sample - loss: 0.2603 - accuracy: 0.9226\n"
     ]
    },
    {
     "data": {
      "text/plain": [
       "0.9226157"
      ]
     },
     "execution_count": 39,
     "metadata": {},
     "output_type": "execute_result"
    }
   ],
   "source": [
    "run_model(0.002, 256, 200, l2(0), X_train=data_train_X, X_test=data_test_X)\n",
    "\n",
    "run_model(0.002, 256, 200, l2(0), X_train=mmscaled_train_X, X_test=mmscaled_test_X)\n",
    "\n",
    "run_model(0.002, 256, 200, l2(0), X_train=stdscaled_train_X, X_test=stdscaled_test_X)"
   ]
  },
  {
   "cell_type": "code",
   "execution_count": 19,
   "id": "laden-indonesia",
   "metadata": {},
   "outputs": [
    {
     "name": "stdout",
     "output_type": "stream",
     "text": [
      "7172/7172 [==============================] - 1s 73us/sample - loss: 0.4876 - accuracy: 0.8723\n"
     ]
    },
    {
     "data": {
      "text/plain": [
       "0.8722811"
      ]
     },
     "execution_count": 19,
     "metadata": {},
     "output_type": "execute_result"
    }
   ],
   "source": [
    "run_model(lr[1], 64, 200, l2(0.01))"
   ]
  }
 ],
 "metadata": {
  "kernelspec": {
   "display_name": "Python 3.7 (tensorflow)",
   "language": "python",
   "name": "tensorflow"
  },
  "language_info": {
   "codemirror_mode": {
    "name": "ipython",
    "version": 3
   },
   "file_extension": ".py",
   "mimetype": "text/x-python",
   "name": "python",
   "nbconvert_exporter": "python",
   "pygments_lexer": "ipython3",
   "version": "3.7.9"
  }
 },
 "nbformat": 4,
 "nbformat_minor": 5
}
